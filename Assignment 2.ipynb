{
 "cells": [
  {
   "cell_type": "code",
   "execution_count": 1,
   "metadata": {},
   "outputs": [
    {
     "name": "stderr",
     "output_type": "stream",
     "text": [
      "c:\\Users\\logan_asqucew\\miniconda3\\envs\\tf_gpu\\lib\\site-packages\\scipy\\__init__.py:146: UserWarning: A NumPy version >=1.16.5 and <1.23.0 is required for this version of SciPy (detected version 1.23.1\n",
      "  warnings.warn(f\"A NumPy version >={np_minversion} and <{np_maxversion}\"\n"
     ]
    }
   ],
   "source": [
    "from sklearn.datasets import fetch_lfw_people\n",
    "from sklearn.model_selection import train_test_split\n",
    "from sklearn.metrics import classification_report\n",
    "from sklearn.ensemble import RandomForestClassifier\n",
    "from sklearn.model_selection import cross_val_score\n",
    "import numpy as np\n",
    "import torch\n",
    "import torch.linalg\n",
    "import matplotlib.pyplot as plt"
   ]
  },
  {
   "cell_type": "markdown",
   "metadata": {},
   "source": [
    "Before Torch Converesion"
   ]
  },
  {
   "cell_type": "code",
   "execution_count": 3,
   "metadata": {},
   "outputs": [
    {
     "name": "stdout",
     "output_type": "stream",
     "text": [
      "Total dataset size:\n",
      "n_samples: 1288\n",
      "n_features: 1850\n",
      "n_classes: 7\n",
      "(966, 150)\n",
      "(322, 150)\n",
      "(966,)\n"
     ]
    },
    {
     "data": {
      "image/png": "[encoded data removed]",
      "text/plain": [
       "<Figure size 432x288 with 1 Axes>"
      ]
     },
     "metadata": {
      "needs_background": "light"
     },
     "output_type": "display_data"
    },
    {
     "name": "stdout",
     "output_type": "stream",
     "text": [
      "Total Testing 322\n",
      "Predictions [3 3 6 3 3 3 3 1 3 3 3 3 3 3 3 3 3 3 3 3 3 3 3 3 3 1 3 3 3 3 3 3 3 3 3 3 3\n",
      " 3 1 1 3 3 3 1 3 1 6 3 3 3 3 3 3 3 3 1 1 3 3 3 1 3 1 3 1 3 3 3 3 3 6 3 3 3\n",
      " 3 1 3 6 3 3 3 3 3 3 3 3 3 3 3 3 3 3 3 3 3 3 1 1 1 6 3 3 3 3 3 3 3 3 3 3 3\n",
      " 1 3 3 3 3 3 3 3 3 1 3 3 3 3 3 3 3 3 1 6 6 6 3 3 3 3 3 1 6 3 3 3 1 3 3 1 3\n",
      " 3 1 3 3 3 3 3 3 3 3 1 3 6 3 3 3 3 3 3 1 3 3 3 3 3 3 3 3 3 3 2 3 3 3 3 1 3\n",
      " 3 3 3 3 3 3 1 3 3 6 3 3 3 3 3 3 3 1 3 3 3 3 3 3 3 3 3 3 3 3 3 3 3 3 3 3 3\n",
      " 1 1 1 3 3 3 3 3 3 3 1 1 3 3 3 3 3 3 3 3 3 3 3 3 3 3 3 3 3 3 3 6 3 6 3 3 6\n",
      " 3 3 3 3 1 3 3 3 3 3 6 3 1 3 3 3 3 3 3 3 3 3 3 3 3 3 3 3 3 3 3 3 3 3 3 3 3\n",
      " 3 3 3 3 3 6 3 3 3 3 3 3 3 3 3 3 3 3 3 3 3 3 3 3 3 3]\n",
      "Which Correct: [ True  True  True  True  True  True False  True  True  True  True  True\n",
      "  True False  True  True  True  True  True False False False  True False\n",
      " False  True False  True  True  True False  True  True  True  True  True\n",
      "  True  True False  True  True False  True  True False  True False  True\n",
      " False  True  True  True False  True False False  True  True False  True\n",
      "  True False  True False False False False False False  True False False\n",
      "  True  True  True False False  True False False  True False False  True\n",
      "  True  True  True  True  True  True  True False  True False False False\n",
      "  True  True False  True  True False  True False  True  True  True  True\n",
      "  True False False  True  True  True  True False  True False False  True\n",
      "  True  True  True False  True False False  True False  True  True  True\n",
      "  True False False False  True  True  True  True False False False  True\n",
      "  True False  True  True False  True False False False  True  True  True\n",
      " False False  True  True  True False False False  True False False  True\n",
      " False  True False False False False False False  True False  True False\n",
      "  True  True  True False  True  True  True  True  True False  True False\n",
      "  True False  True  True  True False  True False  True False  True False\n",
      "  True  True False False False False  True False  True  True  True  True\n",
      "  True False False False  True  True  True  True False  True  True  True\n",
      " False  True  True  True  True False  True False False  True  True  True\n",
      "  True False False False  True False  True  True  True False False  True\n",
      " False  True  True False False False  True False False  True False  True\n",
      "  True False  True False False  True False  True  True  True False  True\n",
      " False  True  True  True False False  True  True False False  True  True\n",
      "  True False False  True False False  True False False False  True False\n",
      "  True  True False False False  True False  True False  True  True  True\n",
      " False False  True  True False False  True  True False False]\n",
      "Total Correct: 183\n",
      "Accuracy: 0.5683229813664596\n",
      "                   precision    recall  f1-score   support\n",
      "\n",
      "     Ariel Sharon       0.00      0.00      0.00        13\n",
      "     Colin Powell       0.74      0.42      0.53        60\n",
      "  Donald Rumsfeld       1.00      0.04      0.07        27\n",
      "    George W Bush       0.53      0.99      0.69       146\n",
      "Gerhard Schroeder       0.00      0.00      0.00        25\n",
      "      Hugo Chavez       0.00      0.00      0.00        15\n",
      "       Tony Blair       0.81      0.36      0.50        36\n",
      "\n",
      "         accuracy                           0.57       322\n",
      "        macro avg       0.44      0.26      0.26       322\n",
      "     weighted avg       0.55      0.57      0.47       322\n",
      "\n"
     ]
    },
    {
     "name": "stderr",
     "output_type": "stream",
     "text": [
      "c:\\Users\\logan_asqucew\\miniconda3\\envs\\tf_gpu\\lib\\site-packages\\sklearn\\metrics\\_classification.py:1327: UndefinedMetricWarning: Precision and F-score are ill-defined and being set to 0.0 in labels with no predicted samples. Use `zero_division` parameter to control this behavior.\n",
      "  _warn_prf(average, modifier, msg_start, len(result))\n",
      "c:\\Users\\logan_asqucew\\miniconda3\\envs\\tf_gpu\\lib\\site-packages\\sklearn\\metrics\\_classification.py:1327: UndefinedMetricWarning: Precision and F-score are ill-defined and being set to 0.0 in labels with no predicted samples. Use `zero_division` parameter to control this behavior.\n",
      "  _warn_prf(average, modifier, msg_start, len(result))\n",
      "c:\\Users\\logan_asqucew\\miniconda3\\envs\\tf_gpu\\lib\\site-packages\\sklearn\\metrics\\_classification.py:1327: UndefinedMetricWarning: Precision and F-score are ill-defined and being set to 0.0 in labels with no predicted samples. Use `zero_division` parameter to control this behavior.\n",
      "  _warn_prf(average, modifier, msg_start, len(result))\n"
     ]
    }
   ],
   "source": [
    "lfw_people = fetch_lfw_people(min_faces_per_person=70, resize=0.4)\n",
    "n_samples, h, w = lfw_people.images.shape\n",
    "# for machine learning we use the 2 data directly (as relative pixel\n",
    "# positions info is ignored by this model)\n",
    "X = lfw_people.data\n",
    "n_features = X.shape[1]\n",
    "# the label to predict is the id of the person\n",
    "y = lfw_people.target\n",
    "target_names = lfw_people.target_names\n",
    "n_classes = target_names.shape[0]\n",
    "print(\"Total dataset size:\")\n",
    "print(\"n_samples: %d\" % n_samples)\n",
    "print(\"n_features: %d\" % n_features)\n",
    "print(\"n_classes: %d\" % n_classes)\n",
    "X_train, X_test, y_train, y_test = train_test_split(X, y, test_size=0.25, random_state=42)\n",
    "# Compute a PCA (eigenfaces) on the face dataset (treated as unlabeled\n",
    "# dataset): unsupervised feature extraction / dimensionality reduction\n",
    "n_components = 150\n",
    "mean = np.mean(X_train, axis=0)\n",
    "X_train -= mean\n",
    "X_test -= mean\n",
    "#Eigen-decomposition\n",
    "U, S, V = np.linalg.svd(X_train, full_matrices=False)\n",
    "components = V[:n_components]\n",
    "eigenfaces = components.reshape((n_components, h, w))\n",
    "#project into PCA subspace\n",
    "X_transformed = np.dot(X_train, components.T)\n",
    "print(X_transformed.shape)\n",
    "X_test_transformed = np.dot(X_test, components.T)\n",
    "print(X_test_transformed.shape)\n",
    "\n",
    "def plot_gallery(images, titles, h, w, n_row=3, n_col=4):\n",
    "    \"\"\"Helper function to plot a gallery of portraits\"\"\"\n",
    "    plt.figure(figsize=(1.8 * n_col, 2.4 * n_row))\n",
    "    plt.subplots_adjust(bottom=0, left=.01, right=.99, top=.90, hspace=.35)\n",
    "    for i in range(n_row * n_col):\n",
    "        plt.subplot(n_row, n_col, i + 1)\n",
    "        plt.imshow(images[i].reshape((h, w)), cmap=plt.cm.gray)\n",
    "        plt.title(titles[i], size=12)\n",
    "        plt.xticks(())\n",
    "        plt.yticks(())\n",
    "        eigenface_titles = [\"eigenface %d\" % i for i in range(eigenfaces.shape[0])]\n",
    "        \n",
    "    plot_gallery(eigenfaces, eigenface_titles, h, w)\n",
    "    plt.show()\n",
    "\n",
    "explained_variance = (S ** 2) / (n_samples - 1)\n",
    "total_var = explained_variance.sum()\n",
    "explained_variance_ratio = explained_variance / total_var\n",
    "ratio_cumsum = np.cumsum(explained_variance_ratio)\n",
    "print(ratio_cumsum.shape)\n",
    "eigenvalueCount = np.arange(n_components)\n",
    "plt.plot(eigenvalueCount, ratio_cumsum[:n_components])\n",
    "plt.title('Compactness')\n",
    "plt.show()\n",
    "estimator = RandomForestClassifier(n_estimators=150, max_depth=15, max_features=150)\n",
    "estimator.fit(X_transformed, y_train) #expects X as [n_samples, n_features]\n",
    "4\n",
    "predictions = estimator.predict(X_test_transformed)\n",
    "correct = predictions==y_test\n",
    "total_test = len(X_test_transformed)\n",
    "#print(\"Gnd Truth:\", y_test)\n",
    "print(\"Total Testing\", total_test)\n",
    "print(\"Predictions\", predictions)\n",
    "print(\"Which Correct:\",correct)\n",
    "print(\"Total Correct:\",np.sum(correct))\n",
    "print(\"Accuracy:\",np.sum(correct)/total_test)    \n",
    "print(classification_report(y_test, predictions, target_names=target_names))\n"
   ]
  },
  {
   "cell_type": "markdown",
   "metadata": {},
   "source": [
    "After Torch conversion"
   ]
  },
  {
   "cell_type": "code",
   "execution_count": 4,
   "metadata": {},
   "outputs": [
    {
     "name": "stdout",
     "output_type": "stream",
     "text": [
      "Total dataset size:\n",
      "n_samples: 1288\n",
      "n_features: 1850\n",
      "n_classes: 7\n"
     ]
    }
   ],
   "source": [
    "#download data\n",
    "lfw_people = fetch_lfw_people(min_faces_per_person=70, resize=0.4)\n",
    "#introspect the images arrays to find the shapes (for plotting)\n",
    "n_samples, h, w = lfw_people.images.shape\n",
    "\n",
    "# for machine learning we use the 2 data directly (as relative pixel\n",
    "# positions info is ignored by this model)\n",
    "X = torch.tensor(lfw_people.data)\n",
    "n_features = X.shape[1]\n",
    "# the label to predict is the id of the person\n",
    "y = lfw_people.target\n",
    "target_names = lfw_people.target_names\n",
    "n_classes = target_names.shape[0]\n",
    "print(\"Total dataset size:\")\n",
    "print(\"n_samples: %d\" % n_samples)\n",
    "print(\"n_features: %d\" % n_features)\n",
    "print(\"n_classes: %d\" % n_classes)"
   ]
  },
  {
   "cell_type": "code",
   "execution_count": 5,
   "metadata": {},
   "outputs": [],
   "source": [
    "# Split into a training set and a test set using a stratified k fold\n",
    "X_train, X_test, y_train, y_test = train_test_split(X, y, test_size=0.25, random_state=42)\n",
    "# Compute a PCA (eigenfaces) on the face dataset (treated as unlabeled\n",
    "# dataset): unsupervised feature extraction / dimensionality reduction\n",
    "n_components = 150"
   ]
  },
  {
   "cell_type": "code",
   "execution_count": 6,
   "metadata": {},
   "outputs": [
    {
     "name": "stdout",
     "output_type": "stream",
     "text": [
      "torch.Size([966, 150])\n",
      "torch.Size([322, 150])\n"
     ]
    }
   ],
   "source": [
    "#Center data\n",
    "mean = torch.mean(X_train, axis=0)\n",
    "X_train -= mean\n",
    "X_test -= mean\n",
    "#Eigen-decomposition\n",
    "U, S, V = torch.linalg.svd(X_train, full_matrices=False)\n",
    "components = V[:n_components]\n",
    "eigenfaces = components.reshape((n_components, h, w))\n",
    "#project into PCA subspace\n",
    "X_transformed = torch.matmul(X_train, components.T)\n",
    "print(X_transformed.shape)\n",
    "X_test_transformed = torch.matmul(X_test, components.T)\n",
    "print(X_test_transformed.shape)"
   ]
  },
  {
   "cell_type": "code",
   "execution_count": 7,
   "metadata": {},
   "outputs": [
    {
     "data": {
      "image/png": "[encoded data removed]",
      "text/plain": [
       "<Figure size 518.4x518.4 with 12 Axes>"
      ]
     },
     "metadata": {},
     "output_type": "display_data"
    }
   ],
   "source": [
    "import matplotlib.pyplot as plt\n",
    "# Qualitative evaluation of the predictions using matplotlib\n",
    "def plot_gallery(images, titles, h, w, n_row=3, n_col=4):\n",
    "    \"\"\"Helper function to plot a gallery of portraits\"\"\"\n",
    "    plt.figure(figsize=(1.8 * n_col, 2.4 * n_row))\n",
    "    plt.subplots_adjust(bottom=0, left=.01, right=.99, top=.90, hspace=.35)\n",
    "    for i in range(n_row * n_col):\n",
    "        plt.subplot(n_row, n_col, i + 1)\n",
    "        plt.imshow(images[i].reshape((h, w)), cmap=plt.cm.gray)\n",
    "        plt.title(titles[i], size=12)\n",
    "        plt.xticks(())\n",
    "        plt.yticks(())\n",
    "eigenface_titles = [\"eigenface %d\" % i for i in range(eigenfaces.shape[0])]\n",
    "plot_gallery(eigenfaces, eigenface_titles, h, w)\n",
    "plt.show()"
   ]
  },
  {
   "cell_type": "code",
   "execution_count": 8,
   "metadata": {},
   "outputs": [
    {
     "name": "stdout",
     "output_type": "stream",
     "text": [
      "torch.Size([966])\n"
     ]
    },
    {
     "data": {
      "image/png": "[encoded data removed]",
      "text/plain": [
       "<Figure size 432x288 with 1 Axes>"
      ]
     },
     "metadata": {
      "needs_background": "light"
     },
     "output_type": "display_data"
    }
   ],
   "source": [
    "explained_variance = (S ** 2) / (n_samples - 1)\n",
    "total_var = explained_variance.sum()\n",
    "explained_variance_ratio = explained_variance / total_var\n",
    "ratio_cumsum = np.cumsum(explained_variance_ratio)\n",
    "print(ratio_cumsum.shape)\n",
    "eigenvalueCount = np.arange(n_components)\n",
    "plt.plot(eigenvalueCount, ratio_cumsum[:n_components])\n",
    "plt.title('Compactness')\n",
    "plt.show()"
   ]
  },
  {
   "cell_type": "code",
   "execution_count": 9,
   "metadata": {},
   "outputs": [
    {
     "name": "stdout",
     "output_type": "stream",
     "text": [
      "Total Testing 322\n",
      "Predictions [3 3 6 3 3 3 3 1 3 3 3 3 3 3 3 3 3 3 3 3 3 3 3 3 3 1 3 3 3 3 3 3 3 3 3 3 3\n",
      " 3 1 1 3 1 3 1 1 1 1 3 3 3 3 3 3 3 3 1 1 3 3 3 1 3 1 3 3 3 3 3 3 3 6 3 3 3\n",
      " 3 1 3 6 3 3 3 3 3 3 3 3 3 3 3 3 3 3 3 3 3 3 1 1 1 3 3 3 3 3 3 3 3 3 3 3 3\n",
      " 1 3 3 3 3 3 3 3 3 1 3 3 3 3 3 3 3 3 3 3 6 6 3 3 3 3 3 1 6 6 3 3 1 3 3 1 3\n",
      " 3 1 3 3 3 3 3 3 3 3 1 3 6 1 3 1 3 3 3 1 3 3 1 3 3 3 3 3 3 3 1 3 3 3 3 2 3\n",
      " 3 3 3 3 3 3 3 3 3 3 3 3 3 3 3 3 3 1 3 3 3 3 3 3 3 3 3 3 3 3 3 3 3 3 3 3 3\n",
      " 3 1 6 3 3 3 3 3 3 3 1 3 3 3 3 3 3 3 3 3 3 3 3 3 3 3 3 3 3 3 3 3 3 6 3 3 6\n",
      " 3 3 3 3 3 3 3 3 3 3 6 3 1 3 3 3 3 3 3 3 3 3 3 3 3 3 0 3 3 3 3 3 3 3 3 3 3\n",
      " 3 3 3 3 3 6 3 3 3 3 1 3 3 3 3 3 1 3 3 3 3 3 3 3 3 3]\n",
      "Which Correct: [ True  True  True  True  True  True False  True  True  True  True  True\n",
      "  True False  True  True  True  True  True False False False  True False\n",
      " False  True False  True  True  True False  True  True  True  True  True\n",
      "  True  True False  True  True  True  True  True  True  True False  True\n",
      " False  True  True  True False  True False False  True  True False  True\n",
      "  True False  True False  True False False False False  True False False\n",
      "  True  True  True False False  True False False  True False False  True\n",
      "  True  True  True  True  True  True  True False  True False False False\n",
      "  True  True False False  True False  True False  True  True  True  True\n",
      "  True False False  True  True  True  True False  True False False  True\n",
      "  True  True  True False  True False False  True False False False  True\n",
      "  True False False False  True  True  True  True False False False  True\n",
      "  True False  True  True False  True False False False  True  True  True\n",
      " False False  True  True  True False False  True  True False False  True\n",
      " False  True  True False False False False False  True False False False\n",
      "  True  True  True  True  True  True  True  True  True False  True False\n",
      "  True False False  True  True False  True False  True False  True False\n",
      "  True  True False False False False  True False  True  True  True  True\n",
      "  True False False False  True  True False  True  True  True  True  True\n",
      " False  True  True  True  True False  True False False  True  True  True\n",
      "  True False False False  True False  True  True  True False False  True\n",
      " False False  True False False False  True False False  True False False\n",
      "  True False  True False False  True False  True  True  True False  True\n",
      " False  True  True  True False False  True  True False  True  True  True\n",
      "  True False False  True False False  True False False False  True False\n",
      "  True  True False False False  True  True  True False  True  True  True\n",
      "  True False  True  True False False  True  True False False]\n",
      "Total Correct: 185\n",
      "Accuracy: 0.5745341614906833\n",
      "                   precision    recall  f1-score   support\n",
      "\n",
      "     Ariel Sharon       1.00      0.08      0.14        13\n",
      "     Colin Powell       0.80      0.47      0.59        60\n",
      "  Donald Rumsfeld       1.00      0.04      0.07        27\n",
      "    George W Bush       0.53      0.99      0.69       146\n",
      "Gerhard Schroeder       0.00      0.00      0.00        25\n",
      "      Hugo Chavez       0.00      0.00      0.00        15\n",
      "       Tony Blair       0.77      0.28      0.41        36\n",
      "\n",
      "         accuracy                           0.57       322\n",
      "        macro avg       0.59      0.26      0.27       322\n",
      "     weighted avg       0.60      0.57      0.48       322\n",
      "\n"
     ]
    },
    {
     "name": "stderr",
     "output_type": "stream",
     "text": [
      "c:\\Users\\logan_asqucew\\miniconda3\\envs\\tf_gpu\\lib\\site-packages\\sklearn\\metrics\\_classification.py:1327: UndefinedMetricWarning: Precision and F-score are ill-defined and being set to 0.0 in labels with no predicted samples. Use `zero_division` parameter to control this behavior.\n",
      "  _warn_prf(average, modifier, msg_start, len(result))\n",
      "c:\\Users\\logan_asqucew\\miniconda3\\envs\\tf_gpu\\lib\\site-packages\\sklearn\\metrics\\_classification.py:1327: UndefinedMetricWarning: Precision and F-score are ill-defined and being set to 0.0 in labels with no predicted samples. Use `zero_division` parameter to control this behavior.\n",
      "  _warn_prf(average, modifier, msg_start, len(result))\n",
      "c:\\Users\\logan_asqucew\\miniconda3\\envs\\tf_gpu\\lib\\site-packages\\sklearn\\metrics\\_classification.py:1327: UndefinedMetricWarning: Precision and F-score are ill-defined and being set to 0.0 in labels with no predicted samples. Use `zero_division` parameter to control this behavior.\n",
      "  _warn_prf(average, modifier, msg_start, len(result))\n"
     ]
    }
   ],
   "source": [
    "from sklearn.ensemble import RandomForestClassifier\n",
    "from sklearn.model_selection import cross_val_score\n",
    "#build random forest\n",
    "estimator = RandomForestClassifier(n_estimators=150, max_depth=15, max_features=150)\n",
    "\n",
    "\n",
    "estimator.fit(X_transformed, y_train) #expects X as [n_samples, n_features]\n",
    "4\n",
    "predictions = estimator.predict(X_test_transformed)\n",
    "\n",
    "correct = predictions==y_test\n",
    "total_test = len(X_test_transformed)\n",
    "#print(\"Gnd Truth:\", y_test)\n",
    "print(\"Total Testing\", total_test)\n",
    "print(\"Predictions\", predictions)\n",
    "print(\"Which Correct:\",correct)\n",
    "print(\"Total Correct:\",np.sum(correct))\n",
    "print(\"Accuracy:\",np.sum(correct)/total_test)\n",
    "print(classification_report(y_test, predictions, target_names=target_names))\n"
   ]
  },
  {
   "cell_type": "markdown",
   "metadata": {},
   "source": [
    "Question 2"
   ]
  },
  {
   "cell_type": "code",
   "execution_count": 10,
   "metadata": {},
   "outputs": [
    {
     "name": "stdout",
     "output_type": "stream",
     "text": [
      "Total dataset size:\n",
      "n_samples: 1288\n",
      "n_features: 1850\n",
      "n_classes: 7\n",
      "X_train shape: (966, 1850)\n"
     ]
    }
   ],
   "source": [
    "#download data\n",
    "import numpy as np\n",
    "import tensorflow as tf\n",
    "from tensorflow import keras\n",
    "from keras.layers import Dense\n",
    "lfw_people = fetch_lfw_people(min_faces_per_person=70, resize=0.4)\n",
    "n_samples, h, w = lfw_people.images.shape\n",
    "\n",
    "# for machine learning we use the 2 data directly (as relative pixel\n",
    "# positions info is ignored by this model)\n",
    "X = lfw_people.data\n",
    "n_features = X.shape[1]\n",
    "# the label to predict is the id of the person\n",
    "y = lfw_people.target\n",
    "target_names = lfw_people.target_names\n",
    "n_classes = target_names.shape[0]\n",
    "print(\"Total dataset size:\")\n",
    "print(\"n_samples: %d\" % n_samples)\n",
    "print(\"n_features: %d\" % n_features)\n",
    "print(\"n_classes: %d\" % n_classes)\n",
    "\n",
    "X_train, X_test, y_train, y_test = train_test_split(X, y, test_size=0.25, random_state=42)\n",
    "\n",
    "print(\"X_train shape:\", X_train.shape)\n",
    "X_train = tf.Variable(X_train)\n",
    "X_test = tf.Variable(X_test)\n",
    "X_train = tf.reshape(X_train, (int(n_samples * 0.75), h,w,1)) / 255\n",
    "X_test = tf.reshape(X_test, (int(n_samples * 0.25), h,w,1)) / 255\n"
   ]
  },
  {
   "cell_type": "markdown",
   "metadata": {},
   "source": [
    "Dense Network"
   ]
  },
  {
   "cell_type": "code",
   "execution_count": 11,
   "metadata": {},
   "outputs": [
    {
     "name": "stdout",
     "output_type": "stream",
     "text": [
      "Epoch 1/50\n",
      "31/31 [==============================] - 2s 11ms/step - loss: 1.7581 - accuracy: 0.3934 - val_loss: 1.6075 - val_accuracy: 0.4534\n",
      "Epoch 2/50\n",
      "31/31 [==============================] - 0s 6ms/step - loss: 1.7075 - accuracy: 0.3975 - val_loss: 1.5895 - val_accuracy: 0.4534\n",
      "Epoch 3/50\n",
      "31/31 [==============================] - 0s 5ms/step - loss: 1.6568 - accuracy: 0.3975 - val_loss: 1.5465 - val_accuracy: 0.4534\n",
      "Epoch 4/50\n",
      "31/31 [==============================] - 0s 6ms/step - loss: 1.6474 - accuracy: 0.3986 - val_loss: 1.5449 - val_accuracy: 0.4534\n",
      "Epoch 5/50\n",
      "31/31 [==============================] - 0s 6ms/step - loss: 1.6047 - accuracy: 0.3996 - val_loss: 1.6075 - val_accuracy: 0.4752\n",
      "Epoch 6/50\n",
      "31/31 [==============================] - 0s 5ms/step - loss: 1.5572 - accuracy: 0.4224 - val_loss: 1.4698 - val_accuracy: 0.5000\n",
      "Epoch 7/50\n",
      "31/31 [==============================] - 0s 5ms/step - loss: 1.4670 - accuracy: 0.4658 - val_loss: 1.4157 - val_accuracy: 0.5311\n",
      "Epoch 8/50\n",
      "31/31 [==============================] - 0s 5ms/step - loss: 1.2984 - accuracy: 0.5311 - val_loss: 1.1638 - val_accuracy: 0.5932\n",
      "Epoch 9/50\n",
      "31/31 [==============================] - 0s 5ms/step - loss: 1.0694 - accuracy: 0.5901 - val_loss: 1.1455 - val_accuracy: 0.5901\n",
      "Epoch 10/50\n",
      "31/31 [==============================] - 0s 5ms/step - loss: 1.0574 - accuracy: 0.6025 - val_loss: 1.0957 - val_accuracy: 0.6366\n",
      "Epoch 11/50\n",
      "31/31 [==============================] - 0s 5ms/step - loss: 0.9421 - accuracy: 0.6398 - val_loss: 1.2631 - val_accuracy: 0.5497\n",
      "Epoch 12/50\n",
      "31/31 [==============================] - 0s 5ms/step - loss: 0.8938 - accuracy: 0.6398 - val_loss: 1.1241 - val_accuracy: 0.5683\n",
      "Epoch 13/50\n",
      "31/31 [==============================] - 0s 5ms/step - loss: 1.1343 - accuracy: 0.5673 - val_loss: 1.0298 - val_accuracy: 0.6304\n",
      "Epoch 14/50\n",
      "31/31 [==============================] - 0s 5ms/step - loss: 0.7953 - accuracy: 0.6967 - val_loss: 0.9093 - val_accuracy: 0.6957\n",
      "Epoch 15/50\n",
      "31/31 [==============================] - 0s 5ms/step - loss: 0.7081 - accuracy: 0.7246 - val_loss: 0.8117 - val_accuracy: 0.7391\n",
      "Epoch 16/50\n",
      "31/31 [==============================] - 0s 5ms/step - loss: 0.6750 - accuracy: 0.7381 - val_loss: 0.9632 - val_accuracy: 0.6739\n",
      "Epoch 17/50\n",
      "31/31 [==============================] - 0s 5ms/step - loss: 0.6021 - accuracy: 0.7774 - val_loss: 0.9391 - val_accuracy: 0.6894\n",
      "Epoch 18/50\n",
      "31/31 [==============================] - 0s 5ms/step - loss: 0.6309 - accuracy: 0.7422 - val_loss: 0.9597 - val_accuracy: 0.7081\n",
      "Epoch 19/50\n",
      "31/31 [==============================] - 0s 5ms/step - loss: 0.5537 - accuracy: 0.7764 - val_loss: 1.0262 - val_accuracy: 0.6863\n",
      "Epoch 20/50\n",
      "31/31 [==============================] - 0s 5ms/step - loss: 0.5349 - accuracy: 0.7930 - val_loss: 0.7799 - val_accuracy: 0.7702\n",
      "Epoch 21/50\n",
      "31/31 [==============================] - 0s 5ms/step - loss: 0.5486 - accuracy: 0.7692 - val_loss: 1.2267 - val_accuracy: 0.6056\n",
      "Epoch 22/50\n",
      "31/31 [==============================] - 0s 5ms/step - loss: 0.6980 - accuracy: 0.7350 - val_loss: 0.8093 - val_accuracy: 0.7205\n",
      "Epoch 23/50\n",
      "31/31 [==============================] - 0s 5ms/step - loss: 0.4534 - accuracy: 0.8282 - val_loss: 0.9551 - val_accuracy: 0.7019\n",
      "Epoch 24/50\n",
      "31/31 [==============================] - 0s 5ms/step - loss: 0.4290 - accuracy: 0.8333 - val_loss: 1.5091 - val_accuracy: 0.5217\n",
      "Epoch 25/50\n",
      "31/31 [==============================] - 0s 5ms/step - loss: 0.6573 - accuracy: 0.7360 - val_loss: 1.1975 - val_accuracy: 0.6025\n",
      "Epoch 26/50\n",
      "31/31 [==============================] - 0s 5ms/step - loss: 0.5531 - accuracy: 0.7805 - val_loss: 1.0752 - val_accuracy: 0.6273\n",
      "Epoch 27/50\n",
      "31/31 [==============================] - 0s 6ms/step - loss: 0.4712 - accuracy: 0.8085 - val_loss: 1.0436 - val_accuracy: 0.7298\n",
      "Epoch 28/50\n",
      "31/31 [==============================] - 0s 5ms/step - loss: 0.3941 - accuracy: 0.8458 - val_loss: 0.9680 - val_accuracy: 0.6553\n",
      "Epoch 29/50\n",
      "31/31 [==============================] - 0s 5ms/step - loss: 0.5069 - accuracy: 0.8106 - val_loss: 0.8664 - val_accuracy: 0.7609\n",
      "Epoch 30/50\n",
      "31/31 [==============================] - 0s 5ms/step - loss: 0.3928 - accuracy: 0.8561 - val_loss: 0.8347 - val_accuracy: 0.7516\n",
      "Epoch 31/50\n",
      "31/31 [==============================] - 0s 5ms/step - loss: 0.3279 - accuracy: 0.8592 - val_loss: 0.7709 - val_accuracy: 0.7640\n",
      "Epoch 32/50\n",
      "31/31 [==============================] - 0s 5ms/step - loss: 0.2805 - accuracy: 0.8810 - val_loss: 0.8494 - val_accuracy: 0.7764\n",
      "Epoch 33/50\n",
      "31/31 [==============================] - 0s 5ms/step - loss: 0.3656 - accuracy: 0.8530 - val_loss: 1.3072 - val_accuracy: 0.7050\n",
      "Epoch 34/50\n",
      "31/31 [==============================] - 0s 5ms/step - loss: 0.3569 - accuracy: 0.8613 - val_loss: 0.7995 - val_accuracy: 0.7578\n",
      "Epoch 35/50\n",
      "31/31 [==============================] - 0s 5ms/step - loss: 0.2628 - accuracy: 0.8841 - val_loss: 0.8510 - val_accuracy: 0.7640\n",
      "Epoch 36/50\n",
      "31/31 [==============================] - 0s 6ms/step - loss: 0.2510 - accuracy: 0.8975 - val_loss: 0.9513 - val_accuracy: 0.7298\n",
      "Epoch 37/50\n",
      "31/31 [==============================] - 0s 5ms/step - loss: 0.2465 - accuracy: 0.8996 - val_loss: 0.9678 - val_accuracy: 0.7205\n",
      "Epoch 38/50\n",
      "31/31 [==============================] - 0s 5ms/step - loss: 0.2498 - accuracy: 0.8892 - val_loss: 0.9053 - val_accuracy: 0.7578\n",
      "Epoch 39/50\n",
      "31/31 [==============================] - 0s 5ms/step - loss: 0.3184 - accuracy: 0.8685 - val_loss: 1.0191 - val_accuracy: 0.7516\n",
      "Epoch 40/50\n",
      "31/31 [==============================] - 0s 5ms/step - loss: 0.2338 - accuracy: 0.9058 - val_loss: 1.0696 - val_accuracy: 0.7422\n",
      "Epoch 41/50\n",
      "31/31 [==============================] - 0s 5ms/step - loss: 0.1781 - accuracy: 0.9379 - val_loss: 0.9459 - val_accuracy: 0.7516\n",
      "Epoch 42/50\n",
      "31/31 [==============================] - 0s 5ms/step - loss: 0.1683 - accuracy: 0.9389 - val_loss: 0.9574 - val_accuracy: 0.7888\n",
      "Epoch 43/50\n",
      "31/31 [==============================] - 0s 5ms/step - loss: 0.1472 - accuracy: 0.9472 - val_loss: 1.1172 - val_accuracy: 0.7640\n",
      "Epoch 44/50\n",
      "31/31 [==============================] - 0s 5ms/step - loss: 0.1604 - accuracy: 0.9389 - val_loss: 1.9107 - val_accuracy: 0.6770\n",
      "Epoch 45/50\n",
      "31/31 [==============================] - 0s 5ms/step - loss: 0.3836 - accuracy: 0.8654 - val_loss: 1.6099 - val_accuracy: 0.6801\n",
      "Epoch 46/50\n",
      "31/31 [==============================] - 0s 5ms/step - loss: 0.2352 - accuracy: 0.9130 - val_loss: 1.0397 - val_accuracy: 0.7453\n",
      "Epoch 47/50\n",
      "31/31 [==============================] - 0s 5ms/step - loss: 0.1544 - accuracy: 0.9493 - val_loss: 0.8941 - val_accuracy: 0.7795\n",
      "Epoch 48/50\n",
      "31/31 [==============================] - 0s 5ms/step - loss: 0.1200 - accuracy: 0.9586 - val_loss: 1.1112 - val_accuracy: 0.7453\n",
      "Epoch 49/50\n",
      "31/31 [==============================] - 0s 5ms/step - loss: 0.1236 - accuracy: 0.9617 - val_loss: 1.0367 - val_accuracy: 0.7733\n",
      "Epoch 50/50\n",
      "31/31 [==============================] - 0s 5ms/step - loss: 0.1306 - accuracy: 0.9493 - val_loss: 1.0719 - val_accuracy: 0.7857\n"
     ]
    },
    {
     "data": {
      "text/plain": [
       "<keras.callbacks.History at 0x260c683d070>"
      ]
     },
     "execution_count": 11,
     "metadata": {},
     "output_type": "execute_result"
    }
   ],
   "source": [
    "from keras.models import Sequential\n",
    "from keras.layers import *\n",
    "\n",
    "model = Sequential()\n",
    "\n",
    "model.add(Flatten())\n",
    "model.add(Dense(h*w, activation = \"relu\", input_shape=(h,w,1,)))\n",
    "\n",
    "model.add(Dense(h*w, activation = \"relu\"))\n",
    "\n",
    "model.add(Dense(h*w, activation = \"relu\"))\n",
    "model.add(Dense(n_classes, activation = \"softmax\"))\n",
    "\n",
    "model.compile(optimizer='adam', loss='sparse_categorical_crossentropy', metrics=['accuracy'])\n",
    "model.fit(X_train, y_train, validation_data = (X_test, y_test), epochs = 50, batch_size = 32)"
   ]
  },
  {
   "cell_type": "markdown",
   "metadata": {},
   "source": [
    "Convulation Network"
   ]
  },
  {
   "cell_type": "code",
   "execution_count": 12,
   "metadata": {},
   "outputs": [
    {
     "name": "stdout",
     "output_type": "stream",
     "text": [
      "Epoch 1/50\n",
      "966/966 [==============================] - 7s 4ms/step - loss: 1.7429 - accuracy: 0.3965 - val_loss: 1.6189 - val_accuracy: 0.4534\n",
      "Epoch 2/50\n",
      "966/966 [==============================] - 4s 4ms/step - loss: 1.7158 - accuracy: 0.3975 - val_loss: 1.6483 - val_accuracy: 0.4534\n",
      "Epoch 3/50\n",
      "966/966 [==============================] - 4s 4ms/step - loss: 1.7189 - accuracy: 0.3975 - val_loss: 1.6185 - val_accuracy: 0.4534\n",
      "Epoch 4/50\n",
      "966/966 [==============================] - 4s 4ms/step - loss: 1.7180 - accuracy: 0.3975 - val_loss: 1.6086 - val_accuracy: 0.4534\n",
      "Epoch 5/50\n",
      "966/966 [==============================] - 4s 4ms/step - loss: 1.7136 - accuracy: 0.3975 - val_loss: 1.5982 - val_accuracy: 0.4534\n",
      "Epoch 6/50\n",
      "966/966 [==============================] - 4s 4ms/step - loss: 1.7186 - accuracy: 0.3975 - val_loss: 1.6141 - val_accuracy: 0.4534\n",
      "Epoch 7/50\n",
      "966/966 [==============================] - 4s 4ms/step - loss: 1.7158 - accuracy: 0.3975 - val_loss: 1.6058 - val_accuracy: 0.4534\n",
      "Epoch 8/50\n",
      "966/966 [==============================] - 4s 4ms/step - loss: 1.7154 - accuracy: 0.3975 - val_loss: 1.6198 - val_accuracy: 0.4534\n",
      "Epoch 9/50\n",
      "966/966 [==============================] - 4s 4ms/step - loss: 1.7134 - accuracy: 0.3975 - val_loss: 1.6167 - val_accuracy: 0.4534\n",
      "Epoch 10/50\n",
      "966/966 [==============================] - 4s 4ms/step - loss: 1.7146 - accuracy: 0.3975 - val_loss: 1.6056 - val_accuracy: 0.4534\n",
      "Epoch 11/50\n",
      "966/966 [==============================] - 4s 4ms/step - loss: 1.7139 - accuracy: 0.3975 - val_loss: 1.5970 - val_accuracy: 0.4534\n",
      "Epoch 12/50\n",
      "966/966 [==============================] - 3s 4ms/step - loss: 1.7129 - accuracy: 0.3975 - val_loss: 1.6004 - val_accuracy: 0.4534\n",
      "Epoch 13/50\n",
      "966/966 [==============================] - 3s 4ms/step - loss: 1.7032 - accuracy: 0.3975 - val_loss: 1.6167 - val_accuracy: 0.4534\n",
      "Epoch 14/50\n",
      "966/966 [==============================] - 4s 4ms/step - loss: 1.6944 - accuracy: 0.3975 - val_loss: 1.5997 - val_accuracy: 0.4534\n",
      "Epoch 15/50\n",
      "966/966 [==============================] - 4s 4ms/step - loss: 1.6773 - accuracy: 0.3975 - val_loss: 1.5668 - val_accuracy: 0.4534\n",
      "Epoch 16/50\n",
      "966/966 [==============================] - 4s 4ms/step - loss: 1.6407 - accuracy: 0.3975 - val_loss: 1.5591 - val_accuracy: 0.4534\n",
      "Epoch 17/50\n",
      "966/966 [==============================] - 4s 4ms/step - loss: 1.5933 - accuracy: 0.3975 - val_loss: 1.4875 - val_accuracy: 0.4565\n",
      "Epoch 18/50\n",
      "966/966 [==============================] - 4s 4ms/step - loss: 1.5332 - accuracy: 0.4079 - val_loss: 1.4444 - val_accuracy: 0.4907\n",
      "Epoch 19/50\n",
      "966/966 [==============================] - 4s 4ms/step - loss: 1.4560 - accuracy: 0.4327 - val_loss: 1.3499 - val_accuracy: 0.5093\n",
      "Epoch 20/50\n",
      "966/966 [==============================] - 3s 3ms/step - loss: 1.3729 - accuracy: 0.4669 - val_loss: 1.2843 - val_accuracy: 0.5186\n",
      "Epoch 21/50\n",
      "966/966 [==============================] - 4s 4ms/step - loss: 1.2964 - accuracy: 0.5010 - val_loss: 1.2272 - val_accuracy: 0.5186\n",
      "Epoch 22/50\n",
      "966/966 [==============================] - 4s 4ms/step - loss: 1.2051 - accuracy: 0.5466 - val_loss: 1.1341 - val_accuracy: 0.6304\n",
      "Epoch 23/50\n",
      "966/966 [==============================] - 4s 4ms/step - loss: 1.1127 - accuracy: 0.5973 - val_loss: 1.0738 - val_accuracy: 0.6460\n",
      "Epoch 24/50\n",
      "966/966 [==============================] - 4s 4ms/step - loss: 1.0197 - accuracy: 0.6449 - val_loss: 0.9896 - val_accuracy: 0.6584\n",
      "Epoch 25/50\n",
      "966/966 [==============================] - 4s 4ms/step - loss: 0.9378 - accuracy: 0.6594 - val_loss: 0.9403 - val_accuracy: 0.7112\n",
      "Epoch 26/50\n",
      "966/966 [==============================] - 4s 4ms/step - loss: 0.8598 - accuracy: 0.7226 - val_loss: 0.8944 - val_accuracy: 0.6801\n",
      "Epoch 27/50\n",
      "966/966 [==============================] - 4s 4ms/step - loss: 0.7951 - accuracy: 0.7402 - val_loss: 0.8331 - val_accuracy: 0.7143\n",
      "Epoch 28/50\n",
      "966/966 [==============================] - 4s 4ms/step - loss: 0.7275 - accuracy: 0.7712 - val_loss: 0.7764 - val_accuracy: 0.7391\n",
      "Epoch 29/50\n",
      "966/966 [==============================] - 3s 4ms/step - loss: 0.6923 - accuracy: 0.7764 - val_loss: 0.8078 - val_accuracy: 0.7267\n",
      "Epoch 30/50\n",
      "966/966 [==============================] - 3s 4ms/step - loss: 0.6385 - accuracy: 0.7981 - val_loss: 0.8064 - val_accuracy: 0.7360\n",
      "Epoch 31/50\n",
      "966/966 [==============================] - 4s 4ms/step - loss: 0.6090 - accuracy: 0.8126 - val_loss: 0.7263 - val_accuracy: 0.7453\n",
      "Epoch 32/50\n",
      "966/966 [==============================] - 4s 4ms/step - loss: 0.5794 - accuracy: 0.8230 - val_loss: 0.7198 - val_accuracy: 0.7764\n",
      "Epoch 33/50\n",
      "966/966 [==============================] - 4s 4ms/step - loss: 0.5347 - accuracy: 0.8375 - val_loss: 0.7419 - val_accuracy: 0.7578\n",
      "Epoch 34/50\n",
      "966/966 [==============================] - 4s 4ms/step - loss: 0.5087 - accuracy: 0.8520 - val_loss: 0.6633 - val_accuracy: 0.7671\n",
      "Epoch 35/50\n",
      "966/966 [==============================] - 4s 4ms/step - loss: 0.4872 - accuracy: 0.8582 - val_loss: 0.7041 - val_accuracy: 0.7578\n",
      "Epoch 36/50\n",
      "966/966 [==============================] - 4s 4ms/step - loss: 0.4676 - accuracy: 0.8478 - val_loss: 0.6683 - val_accuracy: 0.7764\n",
      "Epoch 37/50\n",
      "966/966 [==============================] - 4s 4ms/step - loss: 0.4362 - accuracy: 0.8654 - val_loss: 0.6292 - val_accuracy: 0.7950\n",
      "Epoch 38/50\n",
      "966/966 [==============================] - 4s 4ms/step - loss: 0.4172 - accuracy: 0.8665 - val_loss: 0.6679 - val_accuracy: 0.7919\n",
      "Epoch 39/50\n",
      "966/966 [==============================] - 4s 4ms/step - loss: 0.3963 - accuracy: 0.8727 - val_loss: 0.6840 - val_accuracy: 0.7733\n",
      "Epoch 40/50\n",
      "966/966 [==============================] - 4s 4ms/step - loss: 0.3879 - accuracy: 0.8768 - val_loss: 0.6748 - val_accuracy: 0.7733\n",
      "Epoch 41/50\n",
      "966/966 [==============================] - 4s 4ms/step - loss: 0.3545 - accuracy: 0.9006 - val_loss: 0.6678 - val_accuracy: 0.7857\n",
      "Epoch 42/50\n",
      "966/966 [==============================] - 4s 4ms/step - loss: 0.3489 - accuracy: 0.8903 - val_loss: 0.6331 - val_accuracy: 0.7795\n",
      "Epoch 43/50\n",
      "966/966 [==============================] - 4s 4ms/step - loss: 0.3344 - accuracy: 0.8872 - val_loss: 0.6715 - val_accuracy: 0.7702\n",
      "Epoch 44/50\n",
      "966/966 [==============================] - 4s 4ms/step - loss: 0.3235 - accuracy: 0.8913 - val_loss: 0.7134 - val_accuracy: 0.7671\n",
      "Epoch 45/50\n",
      "966/966 [==============================] - 4s 4ms/step - loss: 0.2956 - accuracy: 0.9182 - val_loss: 0.6771 - val_accuracy: 0.7826\n",
      "Epoch 46/50\n",
      "966/966 [==============================] - 4s 4ms/step - loss: 0.2951 - accuracy: 0.9058 - val_loss: 0.6428 - val_accuracy: 0.7826\n",
      "Epoch 47/50\n",
      "966/966 [==============================] - 4s 4ms/step - loss: 0.2724 - accuracy: 0.9151 - val_loss: 0.6804 - val_accuracy: 0.7826\n",
      "Epoch 48/50\n",
      "966/966 [==============================] - 4s 4ms/step - loss: 0.2554 - accuracy: 0.9203 - val_loss: 0.6898 - val_accuracy: 0.7857\n",
      "Epoch 49/50\n",
      "966/966 [==============================] - 4s 4ms/step - loss: 0.2481 - accuracy: 0.9244 - val_loss: 0.7181 - val_accuracy: 0.7950\n",
      "Epoch 50/50\n",
      "966/966 [==============================] - 4s 4ms/step - loss: 0.2209 - accuracy: 0.9317 - val_loss: 0.8315 - val_accuracy: 0.7702\n"
     ]
    },
    {
     "data": {
      "text/plain": [
       "<keras.callbacks.History at 0x260e890afd0>"
      ]
     },
     "execution_count": 12,
     "metadata": {},
     "output_type": "execute_result"
    }
   ],
   "source": [
    "from keras.models import Sequential\n",
    "from keras.layers import *\n",
    "\n",
    "model = Sequential()\n",
    "\n",
    "model.add(Conv2D(32,kernel_size=(3,3),input_shape=(h,w,1), activation = \"relu\"))\n",
    "model.add(Conv2D(32,kernel_size=(3,3), activation = \"relu\"))\n",
    "model.add(Flatten())\n",
    "model.add(Dense(64, activation = \"relu\"))\n",
    "\n",
    "model.add(Dense(7, activation = \"softmax\"))\n",
    "\n",
    "model.compile(optimizer=keras.optimizers.Adam(learning_rate=0.0001),loss='sparse_categorical_crossentropy', metrics=['accuracy'])\n",
    "model.fit(X_train, y_train, validation_data = (X_test, y_test), epochs = 50, batch_size = 1)"
   ]
  },
  {
   "cell_type": "markdown",
   "metadata": {},
   "source": [
    "Cifar10"
   ]
  },
  {
   "cell_type": "code",
   "execution_count": 13,
   "metadata": {},
   "outputs": [],
   "source": [
    "import ssl\n",
    "ssl._create_default_https_context = ssl._create_unverified_context\n",
    "import tensorflow as tf\n",
    "from tensorflow import keras\n",
    "from keras.models import Sequential\n",
    "from keras.layers import *\n",
    "from keras import regularizers\n",
    "x, y = tf.keras.datasets.cifar10.load_data()\n",
    "h = 32\n",
    "w = 32\n",
    "\n",
    "X_train, y_train = x\n",
    "X_test, y_test = y\n",
    "X_train = tf.reshape(X_train, (50000, h,w,3)) / 255\n",
    "X_test = tf.reshape(X_test, (10000, h,w,3)) / 255\n"
   ]
  },
  {
   "cell_type": "code",
   "execution_count": 14,
   "metadata": {},
   "outputs": [
    {
     "name": "stdout",
     "output_type": "stream",
     "text": [
      "Epoch 1/45\n",
      "782/782 [==============================] - 10s 12ms/step - loss: 1.7485 - accuracy: 0.3408 - val_loss: 1.4555 - val_accuracy: 0.4707\n",
      "Epoch 2/45\n",
      "782/782 [==============================] - 8s 11ms/step - loss: 1.3361 - accuracy: 0.5185 - val_loss: 1.1785 - val_accuracy: 0.5783\n",
      "Epoch 3/45\n",
      "782/782 [==============================] - 8s 11ms/step - loss: 1.1700 - accuracy: 0.5832 - val_loss: 1.0949 - val_accuracy: 0.6141\n",
      "Epoch 4/45\n",
      "782/782 [==============================] - 8s 11ms/step - loss: 1.0567 - accuracy: 0.6298 - val_loss: 0.9633 - val_accuracy: 0.6760\n",
      "Epoch 5/45\n",
      "782/782 [==============================] - 9s 11ms/step - loss: 0.9655 - accuracy: 0.6635 - val_loss: 0.8648 - val_accuracy: 0.7000\n",
      "Epoch 6/45\n",
      "782/782 [==============================] - 9s 11ms/step - loss: 0.9079 - accuracy: 0.6847 - val_loss: 0.8051 - val_accuracy: 0.7251\n",
      "Epoch 7/45\n",
      "782/782 [==============================] - 9s 11ms/step - loss: 0.8598 - accuracy: 0.7028 - val_loss: 0.7996 - val_accuracy: 0.7267\n",
      "Epoch 8/45\n",
      "782/782 [==============================] - 8s 11ms/step - loss: 0.8177 - accuracy: 0.7156 - val_loss: 0.7921 - val_accuracy: 0.7362\n",
      "Epoch 9/45\n",
      "782/782 [==============================] - 9s 11ms/step - loss: 0.7807 - accuracy: 0.7292 - val_loss: 0.8316 - val_accuracy: 0.7204\n",
      "Epoch 10/45\n",
      "782/782 [==============================] - 9s 11ms/step - loss: 0.7627 - accuracy: 0.7345 - val_loss: 0.7576 - val_accuracy: 0.7413\n",
      "Epoch 11/45\n",
      "782/782 [==============================] - 9s 11ms/step - loss: 0.7284 - accuracy: 0.7486 - val_loss: 0.7302 - val_accuracy: 0.7503\n",
      "Epoch 12/45\n",
      "782/782 [==============================] - 8s 11ms/step - loss: 0.7111 - accuracy: 0.7544 - val_loss: 0.7033 - val_accuracy: 0.7624\n",
      "Epoch 13/45\n",
      "782/782 [==============================] - 8s 11ms/step - loss: 0.6916 - accuracy: 0.7616 - val_loss: 0.7117 - val_accuracy: 0.7625\n",
      "Epoch 14/45\n",
      "782/782 [==============================] - 9s 11ms/step - loss: 0.6810 - accuracy: 0.7658 - val_loss: 0.7112 - val_accuracy: 0.7587\n",
      "Epoch 15/45\n",
      "782/782 [==============================] - 9s 11ms/step - loss: 0.6535 - accuracy: 0.7749 - val_loss: 0.6989 - val_accuracy: 0.7635\n",
      "Epoch 16/45\n",
      "782/782 [==============================] - 9s 11ms/step - loss: 0.6402 - accuracy: 0.7769 - val_loss: 0.6932 - val_accuracy: 0.7665\n",
      "Epoch 17/45\n",
      "782/782 [==============================] - 9s 11ms/step - loss: 0.6286 - accuracy: 0.7828 - val_loss: 0.6493 - val_accuracy: 0.7848\n",
      "Epoch 18/45\n",
      "782/782 [==============================] - 9s 11ms/step - loss: 0.6070 - accuracy: 0.7911 - val_loss: 0.6494 - val_accuracy: 0.7848\n",
      "Epoch 19/45\n",
      "782/782 [==============================] - 9s 11ms/step - loss: 0.5992 - accuracy: 0.7932 - val_loss: 0.6522 - val_accuracy: 0.7806\n",
      "Epoch 20/45\n",
      "782/782 [==============================] - 9s 11ms/step - loss: 0.5832 - accuracy: 0.7989 - val_loss: 0.6668 - val_accuracy: 0.7778\n",
      "Epoch 21/45\n",
      "782/782 [==============================] - 9s 11ms/step - loss: 0.5750 - accuracy: 0.8023 - val_loss: 0.6376 - val_accuracy: 0.7908\n",
      "Epoch 22/45\n",
      "782/782 [==============================] - 9s 11ms/step - loss: 0.5635 - accuracy: 0.8038 - val_loss: 0.6509 - val_accuracy: 0.7902\n",
      "Epoch 23/45\n",
      "782/782 [==============================] - 9s 11ms/step - loss: 0.5551 - accuracy: 0.8106 - val_loss: 0.6596 - val_accuracy: 0.7778\n",
      "Epoch 24/45\n",
      "782/782 [==============================] - 8s 11ms/step - loss: 0.5475 - accuracy: 0.8120 - val_loss: 0.6134 - val_accuracy: 0.7946\n",
      "Epoch 25/45\n",
      "782/782 [==============================] - 9s 11ms/step - loss: 0.5387 - accuracy: 0.8156 - val_loss: 0.6703 - val_accuracy: 0.7826\n",
      "Epoch 26/45\n",
      "782/782 [==============================] - 9s 11ms/step - loss: 0.5265 - accuracy: 0.8167 - val_loss: 0.6526 - val_accuracy: 0.7887\n",
      "Epoch 27/45\n",
      "782/782 [==============================] - 9s 11ms/step - loss: 0.5173 - accuracy: 0.8239 - val_loss: 0.6314 - val_accuracy: 0.7915\n",
      "Epoch 28/45\n",
      "782/782 [==============================] - 9s 11ms/step - loss: 0.5125 - accuracy: 0.8241 - val_loss: 0.6395 - val_accuracy: 0.7892\n",
      "Epoch 29/45\n",
      "782/782 [==============================] - 9s 11ms/step - loss: 0.5072 - accuracy: 0.8256 - val_loss: 0.6199 - val_accuracy: 0.7982\n",
      "Epoch 30/45\n",
      "782/782 [==============================] - 9s 11ms/step - loss: 0.4942 - accuracy: 0.8311 - val_loss: 0.6423 - val_accuracy: 0.7890\n",
      "Epoch 31/45\n",
      "782/782 [==============================] - 9s 11ms/step - loss: 0.4907 - accuracy: 0.8322 - val_loss: 0.6155 - val_accuracy: 0.7994\n",
      "Epoch 32/45\n",
      "782/782 [==============================] - 9s 11ms/step - loss: 0.4897 - accuracy: 0.8314 - val_loss: 0.6307 - val_accuracy: 0.7910\n",
      "Epoch 33/45\n",
      "782/782 [==============================] - 9s 11ms/step - loss: 0.4783 - accuracy: 0.8378 - val_loss: 0.5921 - val_accuracy: 0.8039\n",
      "Epoch 34/45\n",
      "782/782 [==============================] - 9s 11ms/step - loss: 0.4713 - accuracy: 0.8394 - val_loss: 0.6176 - val_accuracy: 0.7978\n",
      "Epoch 35/45\n",
      "782/782 [==============================] - 9s 11ms/step - loss: 0.4664 - accuracy: 0.8393 - val_loss: 0.5869 - val_accuracy: 0.8046\n",
      "Epoch 36/45\n",
      "782/782 [==============================] - 9s 11ms/step - loss: 0.4653 - accuracy: 0.8417 - val_loss: 0.6116 - val_accuracy: 0.8026\n",
      "Epoch 37/45\n",
      "782/782 [==============================] - 9s 11ms/step - loss: 0.4570 - accuracy: 0.8454 - val_loss: 0.6401 - val_accuracy: 0.7928\n",
      "Epoch 38/45\n",
      "782/782 [==============================] - 9s 11ms/step - loss: 0.4553 - accuracy: 0.8444 - val_loss: 0.5813 - val_accuracy: 0.8125\n",
      "Epoch 39/45\n",
      "782/782 [==============================] - 9s 11ms/step - loss: 0.4410 - accuracy: 0.8483 - val_loss: 0.6078 - val_accuracy: 0.8068\n",
      "Epoch 40/45\n",
      "782/782 [==============================] - 9s 11ms/step - loss: 0.4385 - accuracy: 0.8520 - val_loss: 0.6208 - val_accuracy: 0.7974\n",
      "Epoch 41/45\n",
      "782/782 [==============================] - 9s 11ms/step - loss: 0.4304 - accuracy: 0.8543 - val_loss: 0.5991 - val_accuracy: 0.8068\n",
      "Epoch 42/45\n",
      "782/782 [==============================] - 9s 11ms/step - loss: 0.4246 - accuracy: 0.8553 - val_loss: 0.6281 - val_accuracy: 0.7981\n",
      "Epoch 43/45\n",
      "782/782 [==============================] - 9s 11ms/step - loss: 0.4273 - accuracy: 0.8554 - val_loss: 0.6320 - val_accuracy: 0.8028\n",
      "Epoch 44/45\n",
      "782/782 [==============================] - 9s 11ms/step - loss: 0.4197 - accuracy: 0.8577 - val_loss: 0.6316 - val_accuracy: 0.7983\n",
      "Epoch 45/45\n",
      "782/782 [==============================] - 9s 11ms/step - loss: 0.4128 - accuracy: 0.8601 - val_loss: 0.6014 - val_accuracy: 0.8042\n"
     ]
    },
    {
     "data": {
      "text/plain": [
       "<keras.callbacks.History at 0x260f63d26a0>"
      ]
     },
     "execution_count": 14,
     "metadata": {},
     "output_type": "execute_result"
    }
   ],
   "source": [
    "model = Sequential()\n",
    "\n",
    "model.add(Conv2D(64,kernel_size=(3,3),input_shape=(h,w,3), activation = \"relu\"))\n",
    "model.add(Conv2D(64,kernel_size=(3,3),input_shape=(h,w,3), activation = \"relu\"))\n",
    "model.add(MaxPooling2D((2,2), padding = \"same\"))\n",
    "model.add(Dropout(0.3))\n",
    "model.add(Conv2D(128,kernel_size=(3,3), activation = \"relu\"))\n",
    "model.add(Conv2D(128,kernel_size=(3,3), activation = \"relu\"))\n",
    "model.add(MaxPooling2D((2,2),padding = \"same\"))\n",
    "model.add(Dropout(0.4))\n",
    "model.add(Conv2D(256,kernel_size=(3,3), activation = \"relu\"))\n",
    "model.add(Conv2D(256,kernel_size=(3,3), activation = \"relu\"))\n",
    "model.add(MaxPooling2D((2,2), padding = \"same\"))\n",
    "model.add(Dropout(0.4))\n",
    "model.add(Flatten())\n",
    "\n",
    "model.add(Dense(1024, activation = \"relu\"))\n",
    "model.add(LeakyReLU())\n",
    "model.add(Dense(512, activation = \"relu\"))\n",
    "model.add(Dense(10, activation = \"softmax\"))\n",
    "\n",
    "model.compile(optimizer=keras.optimizers.Adam(),loss='sparse_categorical_crossentropy', metrics=['accuracy'])\n",
    "model.fit(X_train, y_train, validation_data = (X_test, y_test), epochs = 45, batch_size = 64)"
   ]
  },
  {
   "cell_type": "code",
   "execution_count": 15,
   "metadata": {},
   "outputs": [
    {
     "name": "stdout",
     "output_type": "stream",
     "text": [
      "157/157 [==============================] - 1s 5ms/step - loss: 0.6111 - accuracy: 0.8062\n"
     ]
    },
    {
     "data": {
      "text/plain": [
       "[0.6111472845077515, 0.8062000274658203]"
      ]
     },
     "execution_count": 15,
     "metadata": {},
     "output_type": "execute_result"
    }
   ],
   "source": [
    "\n",
    "model = keras.models.load_model('80 CNN network')\n",
    "# model.summary()\n",
    "\n",
    "model.evaluate(X_test, y_test, batch_size = 64)"
   ]
  }
 ],
 "metadata": {
  "kernelspec": {
   "display_name": "Python 3.9.12 ('tf_gpu')",
   "language": "python",
   "name": "python3"
  },
  "language_info": {
   "codemirror_mode": {
    "name": "ipython",
    "version": 3
   },
   "file_extension": ".py",
   "mimetype": "text/x-python",
   "name": "python",
   "nbconvert_exporter": "python",
   "pygments_lexer": "ipython3",
   "version": "3.9.12"
  },
  "orig_nbformat": 4,
  "vscode": {
   "interpreter": {
    "hash": "bc724ae2313d7b8a4f879ec4ce3c606b009b13a0e0d6f46fa41e3ef55eb83c78"
   }
  }
 },
 "nbformat": 4,
 "nbformat_minor": 2
}
